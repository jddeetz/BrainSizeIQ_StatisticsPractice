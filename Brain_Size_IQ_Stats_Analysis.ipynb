{
 "cells": [
  {
   "cell_type": "markdown",
   "metadata": {},
   "source": [
    "# Statistical Analysis of Brain Size, IQ, Gender, Weight, and Height\n",
    "\n",
    "The purpose of this notebook is to practice some plotting functions from pandas as well as perform some statistical tests using python. Let's load some libraries"
   ]
  },
  {
   "cell_type": "code",
   "execution_count": 26,
   "metadata": {},
   "outputs": [],
   "source": [
    "import pandas as pd"
   ]
  },
  {
   "cell_type": "markdown",
   "metadata": {},
   "source": [
    "Let's load the data set we are going to be using for practice. The data set I will be exploring contains information on brain size, IQ score, height, and weight for different subject with different genders."
   ]
  },
  {
   "cell_type": "code",
   "execution_count": 62,
   "metadata": {},
   "outputs": [
    {
     "data": {
      "text/html": [
       "<div>\n",
       "<style scoped>\n",
       "    .dataframe tbody tr th:only-of-type {\n",
       "        vertical-align: middle;\n",
       "    }\n",
       "\n",
       "    .dataframe tbody tr th {\n",
       "        vertical-align: top;\n",
       "    }\n",
       "\n",
       "    .dataframe thead th {\n",
       "        text-align: right;\n",
       "    }\n",
       "</style>\n",
       "<table border=\"1\" class=\"dataframe\">\n",
       "  <thead>\n",
       "    <tr style=\"text-align: right;\">\n",
       "      <th></th>\n",
       "      <th>Unnamed: 0</th>\n",
       "      <th>Gender</th>\n",
       "      <th>FSIQ</th>\n",
       "      <th>VIQ</th>\n",
       "      <th>PIQ</th>\n",
       "      <th>Weight</th>\n",
       "      <th>Height</th>\n",
       "      <th>MRI_Count</th>\n",
       "    </tr>\n",
       "  </thead>\n",
       "  <tbody>\n",
       "    <tr>\n",
       "      <th>0</th>\n",
       "      <td>1</td>\n",
       "      <td>Female</td>\n",
       "      <td>133</td>\n",
       "      <td>132</td>\n",
       "      <td>124</td>\n",
       "      <td>118.0</td>\n",
       "      <td>64.5</td>\n",
       "      <td>816932</td>\n",
       "    </tr>\n",
       "    <tr>\n",
       "      <th>1</th>\n",
       "      <td>2</td>\n",
       "      <td>Male</td>\n",
       "      <td>140</td>\n",
       "      <td>150</td>\n",
       "      <td>124</td>\n",
       "      <td>NaN</td>\n",
       "      <td>72.5</td>\n",
       "      <td>1001121</td>\n",
       "    </tr>\n",
       "    <tr>\n",
       "      <th>2</th>\n",
       "      <td>3</td>\n",
       "      <td>Male</td>\n",
       "      <td>139</td>\n",
       "      <td>123</td>\n",
       "      <td>150</td>\n",
       "      <td>143.0</td>\n",
       "      <td>73.3</td>\n",
       "      <td>1038437</td>\n",
       "    </tr>\n",
       "    <tr>\n",
       "      <th>3</th>\n",
       "      <td>4</td>\n",
       "      <td>Male</td>\n",
       "      <td>133</td>\n",
       "      <td>129</td>\n",
       "      <td>128</td>\n",
       "      <td>172.0</td>\n",
       "      <td>68.8</td>\n",
       "      <td>965353</td>\n",
       "    </tr>\n",
       "    <tr>\n",
       "      <th>4</th>\n",
       "      <td>5</td>\n",
       "      <td>Female</td>\n",
       "      <td>137</td>\n",
       "      <td>132</td>\n",
       "      <td>134</td>\n",
       "      <td>147.0</td>\n",
       "      <td>65.0</td>\n",
       "      <td>951545</td>\n",
       "    </tr>\n",
       "    <tr>\n",
       "      <th>5</th>\n",
       "      <td>6</td>\n",
       "      <td>Female</td>\n",
       "      <td>99</td>\n",
       "      <td>90</td>\n",
       "      <td>110</td>\n",
       "      <td>146.0</td>\n",
       "      <td>69.0</td>\n",
       "      <td>928799</td>\n",
       "    </tr>\n",
       "    <tr>\n",
       "      <th>6</th>\n",
       "      <td>7</td>\n",
       "      <td>Female</td>\n",
       "      <td>138</td>\n",
       "      <td>136</td>\n",
       "      <td>131</td>\n",
       "      <td>138.0</td>\n",
       "      <td>64.5</td>\n",
       "      <td>991305</td>\n",
       "    </tr>\n",
       "    <tr>\n",
       "      <th>7</th>\n",
       "      <td>8</td>\n",
       "      <td>Female</td>\n",
       "      <td>92</td>\n",
       "      <td>90</td>\n",
       "      <td>98</td>\n",
       "      <td>175.0</td>\n",
       "      <td>66.0</td>\n",
       "      <td>854258</td>\n",
       "    </tr>\n",
       "    <tr>\n",
       "      <th>8</th>\n",
       "      <td>9</td>\n",
       "      <td>Male</td>\n",
       "      <td>89</td>\n",
       "      <td>93</td>\n",
       "      <td>84</td>\n",
       "      <td>134.0</td>\n",
       "      <td>66.3</td>\n",
       "      <td>904858</td>\n",
       "    </tr>\n",
       "    <tr>\n",
       "      <th>9</th>\n",
       "      <td>10</td>\n",
       "      <td>Male</td>\n",
       "      <td>133</td>\n",
       "      <td>114</td>\n",
       "      <td>147</td>\n",
       "      <td>172.0</td>\n",
       "      <td>68.8</td>\n",
       "      <td>955466</td>\n",
       "    </tr>\n",
       "  </tbody>\n",
       "</table>\n",
       "</div>"
      ],
      "text/plain": [
       "   Unnamed: 0  Gender  FSIQ  VIQ  PIQ  Weight  Height  MRI_Count\n",
       "0           1  Female   133  132  124   118.0    64.5     816932\n",
       "1           2    Male   140  150  124     NaN    72.5    1001121\n",
       "2           3    Male   139  123  150   143.0    73.3    1038437\n",
       "3           4    Male   133  129  128   172.0    68.8     965353\n",
       "4           5  Female   137  132  134   147.0    65.0     951545\n",
       "5           6  Female    99   90  110   146.0    69.0     928799\n",
       "6           7  Female   138  136  131   138.0    64.5     991305\n",
       "7           8  Female    92   90   98   175.0    66.0     854258\n",
       "8           9    Male    89   93   84   134.0    66.3     904858\n",
       "9          10    Male   133  114  147   172.0    68.8     955466"
      ]
     },
     "execution_count": 62,
     "metadata": {},
     "output_type": "execute_result"
    }
   ],
   "source": [
    "BrainData=pd.read_csv(\"brain_size.csv\", sep=\";\", na_values=\".\")\n",
    "BrainData.head(10)"
   ]
  },
  {
   "cell_type": "markdown",
   "metadata": {},
   "source": [
    "What do some of these features mean?\n",
    "\n",
    "Unnamed: 0- A dummy index we will remove later\n",
    "Gender- The gender of the subject\n",
    "FSIQ, VIQ, PIQ- Different IQ measurements.\n",
    "Weight- The weight of the subject in pounds.\n",
    "Height- The height of the subject in inches.\n",
    "MRI_Count- The number of pixels in an MRI scan of someone's brain.\n",
    "\n",
    "Here we have specified that missing values in this CSV are marked by a period. Pandas converts these missing values to NaNs, which pandas and most python packages are capable of dealing with. It is important that these missing values are listed as NaNs rather than other characters.\n",
    "\n",
    "What are some other attributes of the dataset?"
   ]
  },
  {
   "cell_type": "code",
   "execution_count": 28,
   "metadata": {},
   "outputs": [
    {
     "name": "stdout",
     "output_type": "stream",
     "text": [
      "The number of patients in the dataset:  40\n",
      "The genders in the dataset:  ['Female' 'Male']\n"
     ]
    },
    {
     "data": {
      "text/html": [
       "<div>\n",
       "<style scoped>\n",
       "    .dataframe tbody tr th:only-of-type {\n",
       "        vertical-align: middle;\n",
       "    }\n",
       "\n",
       "    .dataframe tbody tr th {\n",
       "        vertical-align: top;\n",
       "    }\n",
       "\n",
       "    .dataframe thead th {\n",
       "        text-align: right;\n",
       "    }\n",
       "</style>\n",
       "<table border=\"1\" class=\"dataframe\">\n",
       "  <thead>\n",
       "    <tr style=\"text-align: right;\">\n",
       "      <th></th>\n",
       "      <th>Unnamed: 0</th>\n",
       "      <th>FSIQ</th>\n",
       "      <th>VIQ</th>\n",
       "      <th>PIQ</th>\n",
       "      <th>Weight</th>\n",
       "      <th>Height</th>\n",
       "      <th>MRI_Count</th>\n",
       "    </tr>\n",
       "  </thead>\n",
       "  <tbody>\n",
       "    <tr>\n",
       "      <th>count</th>\n",
       "      <td>40.000000</td>\n",
       "      <td>40.000000</td>\n",
       "      <td>40.000000</td>\n",
       "      <td>40.00000</td>\n",
       "      <td>38.000000</td>\n",
       "      <td>39.000000</td>\n",
       "      <td>4.000000e+01</td>\n",
       "    </tr>\n",
       "    <tr>\n",
       "      <th>mean</th>\n",
       "      <td>20.500000</td>\n",
       "      <td>113.450000</td>\n",
       "      <td>112.350000</td>\n",
       "      <td>111.02500</td>\n",
       "      <td>151.052632</td>\n",
       "      <td>68.525641</td>\n",
       "      <td>9.087550e+05</td>\n",
       "    </tr>\n",
       "    <tr>\n",
       "      <th>std</th>\n",
       "      <td>11.690452</td>\n",
       "      <td>24.082071</td>\n",
       "      <td>23.616107</td>\n",
       "      <td>22.47105</td>\n",
       "      <td>23.478509</td>\n",
       "      <td>3.994649</td>\n",
       "      <td>7.228205e+04</td>\n",
       "    </tr>\n",
       "    <tr>\n",
       "      <th>min</th>\n",
       "      <td>1.000000</td>\n",
       "      <td>77.000000</td>\n",
       "      <td>71.000000</td>\n",
       "      <td>72.00000</td>\n",
       "      <td>106.000000</td>\n",
       "      <td>62.000000</td>\n",
       "      <td>7.906190e+05</td>\n",
       "    </tr>\n",
       "    <tr>\n",
       "      <th>25%</th>\n",
       "      <td>10.750000</td>\n",
       "      <td>89.750000</td>\n",
       "      <td>90.000000</td>\n",
       "      <td>88.25000</td>\n",
       "      <td>135.250000</td>\n",
       "      <td>66.000000</td>\n",
       "      <td>8.559185e+05</td>\n",
       "    </tr>\n",
       "    <tr>\n",
       "      <th>50%</th>\n",
       "      <td>20.500000</td>\n",
       "      <td>116.500000</td>\n",
       "      <td>113.000000</td>\n",
       "      <td>115.00000</td>\n",
       "      <td>146.500000</td>\n",
       "      <td>68.000000</td>\n",
       "      <td>9.053990e+05</td>\n",
       "    </tr>\n",
       "    <tr>\n",
       "      <th>75%</th>\n",
       "      <td>30.250000</td>\n",
       "      <td>135.500000</td>\n",
       "      <td>129.750000</td>\n",
       "      <td>128.00000</td>\n",
       "      <td>172.000000</td>\n",
       "      <td>70.500000</td>\n",
       "      <td>9.500780e+05</td>\n",
       "    </tr>\n",
       "    <tr>\n",
       "      <th>max</th>\n",
       "      <td>40.000000</td>\n",
       "      <td>144.000000</td>\n",
       "      <td>150.000000</td>\n",
       "      <td>150.00000</td>\n",
       "      <td>192.000000</td>\n",
       "      <td>77.000000</td>\n",
       "      <td>1.079549e+06</td>\n",
       "    </tr>\n",
       "  </tbody>\n",
       "</table>\n",
       "</div>"
      ],
      "text/plain": [
       "       Unnamed: 0        FSIQ         VIQ        PIQ      Weight     Height  \\\n",
       "count   40.000000   40.000000   40.000000   40.00000   38.000000  39.000000   \n",
       "mean    20.500000  113.450000  112.350000  111.02500  151.052632  68.525641   \n",
       "std     11.690452   24.082071   23.616107   22.47105   23.478509   3.994649   \n",
       "min      1.000000   77.000000   71.000000   72.00000  106.000000  62.000000   \n",
       "25%     10.750000   89.750000   90.000000   88.25000  135.250000  66.000000   \n",
       "50%     20.500000  116.500000  113.000000  115.00000  146.500000  68.000000   \n",
       "75%     30.250000  135.500000  129.750000  128.00000  172.000000  70.500000   \n",
       "max     40.000000  144.000000  150.000000  150.00000  192.000000  77.000000   \n",
       "\n",
       "          MRI_Count  \n",
       "count  4.000000e+01  \n",
       "mean   9.087550e+05  \n",
       "std    7.228205e+04  \n",
       "min    7.906190e+05  \n",
       "25%    8.559185e+05  \n",
       "50%    9.053990e+05  \n",
       "75%    9.500780e+05  \n",
       "max    1.079549e+06  "
      ]
     },
     "execution_count": 28,
     "metadata": {},
     "output_type": "execute_result"
    }
   ],
   "source": [
    "print(\"The number of patients in the dataset: \", BrainData.shape[0])\n",
    "print(\"The genders in the dataset: \",BrainData[\"Gender\"].unique())\n",
    "\n",
    "BrainData.describe()"
   ]
  },
  {
   "cell_type": "markdown",
   "metadata": {},
   "source": [
    "The dataset has 40 patients in it. There are two missing values for weights and one missing value for height. The means and standard deviations of the three IQ tests are fairly close together. "
   ]
  },
  {
   "cell_type": "markdown",
   "metadata": {},
   "source": [
    "### Question 1) Does the data indicate that male's and female's are different in any way?\n",
    "\n",
    "For this analysis, we can split the dataframe into two parts: males and females"
   ]
  },
  {
   "cell_type": "code",
   "execution_count": 31,
   "metadata": {},
   "outputs": [
    {
     "name": "stdout",
     "output_type": "stream",
     "text": [
      "Some basic statistics for males: \n",
      "              FSIQ         VIQ         PIQ      Weight     Height     MRI_Count\n",
      "count   20.000000   20.000000   20.000000   18.000000  19.000000  2.000000e+01\n",
      "mean   115.000000  115.250000  111.600000  166.444444  71.431579  9.548554e+05\n",
      "std     24.986312   25.640993   23.540335   20.047656   3.283131  5.591135e+04\n",
      "min     80.000000   77.000000   74.000000  132.000000  66.300000  8.799870e+05\n",
      "25%     89.750000   95.250000   86.000000  148.750000  68.900000  9.195292e+05\n",
      "50%    118.000000  110.500000  117.000000  172.000000  70.500000  9.472415e+05\n",
      "75%    139.250000  145.000000  128.000000  180.750000  73.750000  9.734960e+05\n",
      "max    144.000000  150.000000  150.000000  192.000000  77.000000  1.079549e+06 \n",
      "\n",
      "Some basic statistics for females: \n",
      "              FSIQ         VIQ         PIQ      Weight     Height     MRI_Count\n",
      "count   20.000000   20.000000   20.000000   20.000000  20.000000      20.00000\n",
      "mean   111.900000  109.450000  110.450000  137.200000  65.765000  862654.60000\n",
      "std     23.686327   21.670924   21.946046   16.953807   2.288248   55893.55578\n",
      "min     77.000000   71.000000   72.000000  106.000000  62.000000  790619.00000\n",
      "25%     90.250000   90.000000   93.000000  125.750000  64.500000  828062.00000\n",
      "50%    115.500000  116.000000  115.000000  138.500000  66.000000  855365.00000\n",
      "75%    133.000000  129.000000  128.750000  146.250000  66.875000  882668.50000\n",
      "max    140.000000  136.000000  147.000000  175.000000  70.500000  991305.00000\n"
     ]
    }
   ],
   "source": [
    "#Drop the dummy index column\n",
    "NewBrainData=BrainData.drop(\"Unnamed: 0\",axis=1)\n",
    "\n",
    "#Split the data among males and females\n",
    "Males=NewBrainData[NewBrainData[\"Gender\"]==\"Male\"]\n",
    "Females=NewBrainData[NewBrainData[\"Gender\"]==\"Female\"]\n",
    "\n",
    "#Print some basic statistics for men and women\n",
    "print(\"Some basic statistics for males: \\n\",Males.describe(),\"\\n\")\n",
    "print(\"Some basic statistics for females: \\n\",Females.describe())\n"
   ]
  },
  {
   "cell_type": "markdown",
   "metadata": {},
   "source": [
    "The mean for the FSIQ, VIQ, PIQ, as well as the Weight and Height of males appear to bve higher. But given the small dataset (20 patients of each gender), are these differences statisticallyn significant? Do the observed differences in the sample correspond to actual differences in the whole population? To answer this question, we must perform a statistical test.\n",
    "\n",
    "I will test six hypotheses here versus null hypotheses:\n",
    "- Alternative Hypothesis 1: The mean of FSIQ for men and women are different in the population.\n",
    "- Alternative Hypothesis 2: The mean of VIQ for men and women are different in the population.\n",
    "- Alternative Hypothesis 3: The mean of PIQ for men and women are different in the population.\n",
    "- Alternative Hypothesis 4: The mean of Weight for men and women are different in the population.\n",
    "- Alternative Hypothesis 5: The mean of Height for men and women are different in the population.\n",
    "- Alternative Hypothesis 6: The mean of MRI_Count for men and women are different in the population.\n",
    "\n",
    "The null hypothesis is that there is no difference between men and women here.\n",
    "\n",
    "Here are some plots to explore the dataset even further:"
   ]
  },
  {
   "cell_type": "code",
   "execution_count": 63,
   "metadata": {},
   "outputs": [
    {
     "data": {
      "text/plain": [
       "Female         AxesSubplot(0.1,0.15;0.363636x0.75)\n",
       "Male      AxesSubplot(0.536364,0.15;0.363636x0.75)\n",
       "dtype: object"
      ]
     },
     "execution_count": 63,
     "metadata": {},
     "output_type": "execute_result"
    },
    {
     "data": {
      "image/png": "[encoded data removed]",
      "text/plain": [
       "<Figure size 432x288 with 2 Axes>"
      ]
     },
     "metadata": {},
     "output_type": "display_data"
    }
   ],
   "source": [
    "#Create a groupby object in pandas\n",
    "groupby_gender=BrainData.groupby(\"Gender\")\n",
    "groupby_gender.boxplot(column=[\"FSIQ\",\"VIQ\",\"PIQ\"])"
   ]
  },
  {
   "cell_type": "markdown",
   "metadata": {},
   "source": [
    "The green lines in this plot indicate the median of the each of the FSIQ, VIQ, PIQ. It actually does not appear that there is a significant difference between the two genders based on their boxplots, but we will perform a statistical analyses anyways on the IQs. What about the height and weights?"
   ]
  },
  {
   "cell_type": "code",
   "execution_count": 38,
   "metadata": {},
   "outputs": [
    {
     "data": {
      "text/plain": [
       "Female         AxesSubplot(0.1,0.15;0.363636x0.75)\n",
       "Male      AxesSubplot(0.536364,0.15;0.363636x0.75)\n",
       "dtype: object"
      ]
     },
     "execution_count": 38,
     "metadata": {},
     "output_type": "execute_result"
    },
    {
     "data": {
      "image/png": "[encoded data removed]",
      "text/plain": [
       "<Figure size 432x288 with 2 Axes>"
      ]
     },
     "metadata": {},
     "output_type": "display_data"
    }
   ],
   "source": [
    "groupby_gender.boxplot(column=[\"Weight\"])"
   ]
  },
  {
   "cell_type": "code",
   "execution_count": 39,
   "metadata": {},
   "outputs": [
    {
     "data": {
      "text/plain": [
       "Female         AxesSubplot(0.1,0.15;0.363636x0.75)\n",
       "Male      AxesSubplot(0.536364,0.15;0.363636x0.75)\n",
       "dtype: object"
      ]
     },
     "execution_count": 39,
     "metadata": {},
     "output_type": "execute_result"
    },
    {
     "data": {
      "image/png": "[encoded data removed]",
      "text/plain": [
       "<Figure size 432x288 with 2 Axes>"
      ]
     },
     "metadata": {},
     "output_type": "display_data"
    }
   ],
   "source": [
    "groupby_gender.boxplot(column=[\"Height\"])"
   ]
  },
  {
   "cell_type": "markdown",
   "metadata": {},
   "source": [
    "In contrast to IQ, there does seem to statistically significant difference in the height and weights of men and women. What about the number of pixels in the subjects MRI scan of their brain (a crude approximation of their brain size)? "
   ]
  },
  {
   "cell_type": "code",
   "execution_count": 65,
   "metadata": {},
   "outputs": [
    {
     "data": {
      "text/plain": [
       "Female         AxesSubplot(0.1,0.15;0.363636x0.75)\n",
       "Male      AxesSubplot(0.536364,0.15;0.363636x0.75)\n",
       "dtype: object"
      ]
     },
     "execution_count": 65,
     "metadata": {},
     "output_type": "execute_result"
    },
    {
     "data": {
      "image/png": "[encoded data removed]",
      "text/plain": [
       "<Figure size 432x288 with 2 Axes>"
      ]
     },
     "metadata": {},
     "output_type": "display_data"
    }
   ],
   "source": [
    "groupby_gender.boxplot(column=[\"MRI_Count\"])"
   ]
  },
  {
   "cell_type": "markdown",
   "metadata": {},
   "source": [
    "There does seem to be a difference in the size of the brains of men and women. Ok, now lets perform the statistical tests to confirm if these differences are statistically significant."
   ]
  },
  {
   "cell_type": "code",
   "execution_count": 45,
   "metadata": {},
   "outputs": [
    {
     "name": "stdout",
     "output_type": "stream",
     "text": [
      "Let's test if there is any statistical meaning to IQ differences between males and females\n",
      "VIQ:  Ttest_indResult(statistic=0.7726161723275011, pvalue=0.44452876778583217) \n",
      "\n",
      "FSIQ:  Ttest_indResult(statistic=0.4026724743703011, pvalue=0.6894456253897778) \n",
      "\n",
      "PIQ:  Ttest_indResult(statistic=0.15980113150762698, pvalue=0.8738841403250049) \n",
      "\n"
     ]
    }
   ],
   "source": [
    "#For simple statistical tests, we can use the scipy module\n",
    "from scipy import stats\n",
    "\n",
    "print(\"Let's test if there is any statistical meaning to IQ differences between males and females\")\n",
    "print(\"VIQ: \",stats.ttest_ind(Males[\"VIQ\"],Females[\"VIQ\"]),\"\\n\")\n",
    "print(\"FSIQ: \",stats.ttest_ind(Males[\"FSIQ\"],Females[\"FSIQ\"]),\"\\n\")\n",
    "print(\"PIQ: \",stats.ttest_ind(Males[\"PIQ\"],Females[\"PIQ\"]),\"\\n\")"
   ]
  },
  {
   "cell_type": "markdown",
   "metadata": {},
   "source": [
    "Note that the p-values of all of these comparisons are high. In the first case the probability that we can accept the null hypothesis as true (that VIQ is equal for males and females) is 0.444. This roughly means that there is high probability of simply generating the observed data from chance alone. We cannot reject the null hypothesis in this case for any of the IQ measurements.\n",
    "\n",
    "What about the height and weights?"
   ]
  },
  {
   "cell_type": "code",
   "execution_count": 66,
   "metadata": {},
   "outputs": [
    {
     "name": "stdout",
     "output_type": "stream",
     "text": [
      "Let's test if there is any statistical meaning to Height and Weight differences\n",
      "Weight:  Ttest_indResult(statistic=4.870950921940696, pvalue=2.227293018362118e-05) \n",
      "\n",
      "Height:  Ttest_indResult(statistic=6.280184459523685, pvalue=2.623667704653113e-07) \n",
      "\n",
      "MRI_Count:  Ttest_indResult(statistic=5.215594290396395, pvalue=6.757994867071175e-06) \n",
      "\n"
     ]
    }
   ],
   "source": [
    "print(\"Let's test if there is any statistical meaning to Height and Weight differences\")\n",
    "print(\"Weight: \",stats.ttest_ind(Males[\"Weight\"].dropna(),Females[\"Weight\"]),\"\\n\")\n",
    "print(\"Height: \",stats.ttest_ind(Males[\"Height\"].dropna(),Females[\"Height\"]),\"\\n\")\n",
    "print(\"MRI_Count: \",stats.ttest_ind(Males[\"MRI_Count\"].dropna(),Females[\"MRI_Count\"]),\"\\n\")"
   ]
  },
  {
   "cell_type": "markdown",
   "metadata": {},
   "source": [
    "In this case, the p-values for height, weight, and brain size indicate that there is a very low probability that the observed differences in the means between the men and women are due to chance alone. This means that we can reject the null hypothesis that states that the means of the height, weight, and brain size are equal between men and women."
   ]
  },
  {
   "cell_type": "markdown",
   "metadata": {},
   "source": [
    "### Question 2: Is there any meaningful difference between the three IQ tests?\n",
    "\n",
    "Before trying to answer this question, lets make a plot of each of the IQ tests vs. each other. Pandas has a built-in plotting method to deal with this."
   ]
  },
  {
   "cell_type": "code",
   "execution_count": 53,
   "metadata": {},
   "outputs": [
    {
     "data": {
      "image/png": "[encoded data removed]",
      "text/plain": [
       "<Figure size 432x288 with 9 Axes>"
      ]
     },
     "metadata": {},
     "output_type": "display_data"
    }
   ],
   "source": [
    "from pandas.plotting import scatter_matrix\n",
    "\n",
    "# Scatter matrices for different columns\n",
    "scatter_matrix(BrainData[['PIQ', 'VIQ', 'FSIQ']])\n",
    "\n",
    "import matplotlib.pyplot as plt\n",
    "plt.show()"
   ]
  },
  {
   "cell_type": "markdown",
   "metadata": {},
   "source": [
    "We can perform a paired test to see if the FISQ, PIQ, VIQ come from the same distributions.\n",
    "\n",
    "- Alternative Hypothesis 1: the mean difference between FISQ and PIQ is non-zero\n",
    "- Alternative Hypothesis 2: the mean difference between FISQ and VIQ is non-zero\n",
    "- Alternative Hypothesis 3: the mean difference between PIQ and VIQ is non-zero\n",
    "\n",
    "Null Hypothesis: the average difference between any two IQ measurements in zero.\n",
    "\n",
    "Let's perform statistical tests on these sets of paired data."
   ]
  },
  {
   "cell_type": "code",
   "execution_count": 59,
   "metadata": {},
   "outputs": [
    {
     "name": "stdout",
     "output_type": "stream",
     "text": [
      "FSIQ and PIQ: \n",
      " Ttest_relResult(statistic=1.7842019405859857, pvalue=0.08217263818364236) \n",
      "\n",
      "FSIQ and VIQ: \n",
      " Ttest_relResult(statistic=0.8913911665594247, pvalue=0.37818604189634275) \n",
      "\n",
      "PIQ and VIQ: \n",
      " Ttest_relResult(statistic=-0.5445841763599564, pvalue=0.5891401178507841) \n",
      "\n"
     ]
    }
   ],
   "source": [
    "print(\"FSIQ and PIQ: \\n\",stats.ttest_rel(BrainData['FSIQ'], BrainData['PIQ']),\"\\n\")\n",
    "print(\"FSIQ and VIQ: \\n\",stats.ttest_rel(BrainData['FSIQ'], BrainData['VIQ']),\"\\n\")\n",
    "print(\"PIQ and VIQ: \\n\",stats.ttest_rel(BrainData['PIQ'], BrainData['VIQ']),\"\\n\")"
   ]
  },
  {
   "cell_type": "markdown",
   "metadata": {},
   "source": [
    "So far we have performed two kinds of statistical tests:\n",
    "1) Comparison of means on independent data (i.e. two groups)\n",
    "2) Comparison of differences between paired data (i.e. multiple measurements for each specimen).\n",
    "\n",
    "The above p-values for paired data indicate that there is only a 0.082 probability that the FSIQ and PIQ have a mean difference of zero in the actual population. "
   ]
  },
  {
   "cell_type": "markdown",
   "metadata": {},
   "source": [
    "### Question 3: Is there any relationship between brain size and IQ scores?\n",
    "\n",
    "Based on the previous two sections, there probably is not a strong relationship between brain size and IQ score, but we should still check for completeness."
   ]
  },
  {
   "cell_type": "code",
   "execution_count": 67,
   "metadata": {},
   "outputs": [
    {
     "data": {
      "image/png": "[encoded data removed]",
      "text/plain": [
       "<Figure size 432x288 with 16 Axes>"
      ]
     },
     "metadata": {},
     "output_type": "display_data"
    }
   ],
   "source": [
    "# Scatter matrices for IQ and MRI_Count\n",
    "scatter_matrix(BrainData[['PIQ', 'VIQ', 'FSIQ','MRI_Count']])\n",
    "\n",
    "import matplotlib.pyplot as plt\n",
    "plt.show()"
   ]
  },
  {
   "cell_type": "markdown",
   "metadata": {},
   "source": [
    "As we can see, the MRI_Count does not appear to have a strong relationship with any of the IQ tests. In order to test if these two variables are related, we can perform two statistical tests: Pearson's correlation and Spearman's rank correlation.\n",
    "\n",
    "Let's start with Pearson's correlation, which tests to see if the two variables have a linear relationship. \n",
    "\n",
    "- Alternative Hypothesis 1: MRI_Count and PIQ have a linear relationship\n",
    "- Alternative Hypothesis 2: MRI_Count and VIQ have a linear relationship\n",
    "- Alternative Hypothesis 3: MRI_Count and FSIQ have a linear relationship\n",
    "\n",
    "Null Hypothesis: None of these variables have linear relationships"
   ]
  },
  {
   "cell_type": "code",
   "execution_count": 71,
   "metadata": {},
   "outputs": [
    {
     "name": "stdout",
     "output_type": "stream",
     "text": [
      "MRI_Count, PIQ: p-value  0.013674636036073246 , correlation  0.3868173150245029\n",
      "MRI_Count, VIQ: p-value  0.033201762692926864 , correlation  0.33747772802033543\n",
      "MRI_Count, FSIQ: p-value  0.023468912626901678 , correlation  0.3576409693690567\n"
     ]
    }
   ],
   "source": [
    "from scipy.stats import pearsonr\n",
    "\n",
    "corr, p = pearsonr(BrainData['MRI_Count'], BrainData['PIQ'])\n",
    "print(\"MRI_Count, PIQ: p-value \",p,\", correlation \",corr)\n",
    "corr, p = pearsonr(BrainData['MRI_Count'], BrainData['VIQ'])\n",
    "print(\"MRI_Count, VIQ: p-value \",p,\", correlation \",corr)\n",
    "corr, p = pearsonr(BrainData['MRI_Count'], BrainData['FSIQ'])\n",
    "print(\"MRI_Count, FSIQ: p-value \",p,\", correlation \",corr)"
   ]
  },
  {
   "cell_type": "markdown",
   "metadata": {},
   "source": [
    "Interestingly, we have low p-values, indicating that brain size and IQ may have a linear relationship. What does the Spearman rank correlation say?"
   ]
  },
  {
   "cell_type": "code",
   "execution_count": 72,
   "metadata": {},
   "outputs": [
    {
     "name": "stdout",
     "output_type": "stream",
     "text": [
      "MRI_Count, PIQ: p-value  0.008173533949126888 , correlation  0.41246146706792225\n",
      "MRI_Count, VIQ: p-value  0.010586483605577596 , correlation  0.3998136785192377\n",
      "MRI_Count, FSIQ: p-value  0.0020984777996441214 , correlation  0.47214191583899207\n"
     ]
    }
   ],
   "source": [
    "from scipy.stats import spearmanr\n",
    "\n",
    "corr, p = spearmanr(BrainData['MRI_Count'], BrainData['PIQ'])\n",
    "print(\"MRI_Count, PIQ: p-value \",p,\", correlation \",corr)\n",
    "corr, p = spearmanr(BrainData['MRI_Count'], BrainData['VIQ'])\n",
    "print(\"MRI_Count, VIQ: p-value \",p,\", correlation \",corr)\n",
    "corr, p = spearmanr(BrainData['MRI_Count'], BrainData['FSIQ'])\n",
    "print(\"MRI_Count, FSIQ: p-value \",p,\", correlation \",corr)"
   ]
  },
  {
   "cell_type": "markdown",
   "metadata": {},
   "source": [
    "Interestingly, these tests indicate that there is some correlations between brain size and IQ score. However, we were not able to show any difference in IQ scores based on gender, but we were able to show that brain size has a relationship with gender. This may indicate the presence of some confounding variables."
   ]
  }
 ],
 "metadata": {
  "kernelspec": {
   "display_name": "Python 3",
   "language": "python",
   "name": "python3"
  },
  "language_info": {
   "codemirror_mode": {
    "name": "ipython",
    "version": 3
   },
   "file_extension": ".py",
   "mimetype": "text/x-python",
   "name": "python",
   "nbconvert_exporter": "python",
   "pygments_lexer": "ipython3",
   "version": "3.6.5"
  }
 },
 "nbformat": 4,
 "nbformat_minor": 2
}
